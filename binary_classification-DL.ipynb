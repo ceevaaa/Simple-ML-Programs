{
 "cells": [
  {
   "cell_type": "code",
   "execution_count": 1,
   "metadata": {},
   "outputs": [
    {
     "name": "stderr",
     "output_type": "stream",
     "text": [
      "Using TensorFlow backend.\n"
     ]
    }
   ],
   "source": [
    "\"\"\"Y'all, this is a simple model for binary classification on the inbuild-dataset 'imdb' from keras\"\"\"\n",
    "import numpy as np\n",
    "from keras.datasets import imdb\n",
    "from keras import models\n",
    "from keras import layers\n",
    "from keras import optimizers\n",
    "from keras import losses\n",
    "from keras import metrics\n",
    "\n",
    "#Loading data from imdb datset\n",
    "(train_data, train_labels), (test_data, test_labels) = imdb.load_data(num_words=10000)\n"
   ]
  },
  {
   "cell_type": "code",
   "execution_count": 2,
   "metadata": {},
   "outputs": [],
   "source": [
    "#Convert the dataset into input tensor with 1 and 0\n",
    "def vectorize_sequences(sequences, dimension=10000):\n",
    "    results = np.zeros((len(sequences), dimension))\n",
    "    for i, sequence in enumerate(sequences):\n",
    "        results[i, sequence] = 1.\n",
    "    return results\n",
    "\n",
    "x_train = vectorize_sequences(train_data)\n",
    "x_test  = vectorize_sequences(test_data)\n",
    "\n",
    "y_train = np.asarray(train_labels).astype('float32')\n",
    "y_test  = np.asarray(test_labels).astype('float32')\n",
    "\n",
    "#Creating Validation set from the training set\n",
    "x_val = x_train[:10000]\n",
    "partial_x_train = x_train[10000:]\n",
    "y_val = y_train[:10000]\n",
    "partial_y_train = y_train[10000:]"
   ]
  },
  {
   "cell_type": "code",
   "execution_count": 3,
   "metadata": {},
   "outputs": [],
   "source": [
    "#Building the model - a simple model with 3 layers\n",
    "model = models.Sequential()\n",
    "model.add(layers.Dense(16, activation = 'relu', input_shape = (10000, )))\n",
    "model.add(layers.Dense(16, activation = 'relu'))\n",
    "model.add(layers.Dense(1, activation = 'sigmoid'))"
   ]
  },
  {
   "cell_type": "code",
   "execution_count": 4,
   "metadata": {},
   "outputs": [],
   "source": [
    "#Compiling the model\n",
    "model.compile(optimizer = 'rmsprop',\n",
    "              loss = 'binary_crossentropy',\n",
    "              metrics = ['accuracy'])"
   ]
  },
  {
   "cell_type": "code",
   "execution_count": 5,
   "metadata": {},
   "outputs": [
    {
     "name": "stdout",
     "output_type": "stream",
     "text": [
      "Train on 15000 samples, validate on 10000 samples\n",
      "Epoch 1/20\n",
      "15000/15000 [==============================] - 2s 161us/step - loss: 0.4930 - accuracy: 0.7887 - val_loss: 0.3632 - val_accuracy: 0.8725\n",
      "Epoch 2/20\n",
      "15000/15000 [==============================] - 2s 145us/step - loss: 0.2878 - accuracy: 0.9063 - val_loss: 0.2965 - val_accuracy: 0.8867\n",
      "Epoch 3/20\n",
      "15000/15000 [==============================] - 2s 145us/step - loss: 0.2117 - accuracy: 0.9282 - val_loss: 0.3066 - val_accuracy: 0.8747\n",
      "Epoch 4/20\n",
      "15000/15000 [==============================] - 2s 145us/step - loss: 0.1653 - accuracy: 0.9472 - val_loss: 0.2819 - val_accuracy: 0.8861\n",
      "Epoch 5/20\n",
      "15000/15000 [==============================] - 2s 145us/step - loss: 0.1334 - accuracy: 0.9577 - val_loss: 0.2873 - val_accuracy: 0.8850\n",
      "Epoch 6/20\n",
      "15000/15000 [==============================] - 2s 145us/step - loss: 0.1081 - accuracy: 0.9659 - val_loss: 0.3306 - val_accuracy: 0.8733\n",
      "Epoch 7/20\n",
      "15000/15000 [==============================] - 2s 145us/step - loss: 0.0893 - accuracy: 0.9737 - val_loss: 0.3495 - val_accuracy: 0.8739\n",
      "Epoch 8/20\n",
      "15000/15000 [==============================] - 2s 145us/step - loss: 0.0692 - accuracy: 0.9816 - val_loss: 0.3683 - val_accuracy: 0.8727\n",
      "Epoch 9/20\n",
      "15000/15000 [==============================] - 2s 145us/step - loss: 0.0565 - accuracy: 0.9855 - val_loss: 0.3832 - val_accuracy: 0.8723\n",
      "Epoch 10/20\n",
      "15000/15000 [==============================] - 2s 146us/step - loss: 0.0435 - accuracy: 0.9903 - val_loss: 0.3933 - val_accuracy: 0.8772\n",
      "Epoch 11/20\n",
      "15000/15000 [==============================] - 2s 146us/step - loss: 0.0338 - accuracy: 0.9930 - val_loss: 0.4253 - val_accuracy: 0.8759\n",
      "Epoch 12/20\n",
      "15000/15000 [==============================] - 2s 146us/step - loss: 0.0286 - accuracy: 0.9938 - val_loss: 0.4543 - val_accuracy: 0.8733\n",
      "Epoch 13/20\n",
      "15000/15000 [==============================] - 2s 145us/step - loss: 0.0188 - accuracy: 0.9971 - val_loss: 0.4870 - val_accuracy: 0.8719\n",
      "Epoch 14/20\n",
      "15000/15000 [==============================] - 2s 146us/step - loss: 0.0168 - accuracy: 0.9971 - val_loss: 0.5185 - val_accuracy: 0.8682\n",
      "Epoch 15/20\n",
      "15000/15000 [==============================] - 2s 146us/step - loss: 0.0091 - accuracy: 0.9994 - val_loss: 0.6224 - val_accuracy: 0.8603\n",
      "Epoch 16/20\n",
      "15000/15000 [==============================] - 2s 146us/step - loss: 0.0093 - accuracy: 0.9991 - val_loss: 0.5879 - val_accuracy: 0.8696\n",
      "Epoch 17/20\n",
      "15000/15000 [==============================] - 2s 146us/step - loss: 0.0076 - accuracy: 0.9990 - val_loss: 0.6218 - val_accuracy: 0.8680\n",
      "Epoch 18/20\n",
      "15000/15000 [==============================] - 2s 145us/step - loss: 0.0034 - accuracy: 0.9999 - val_loss: 0.6625 - val_accuracy: 0.8658\n",
      "Epoch 19/20\n",
      "15000/15000 [==============================] - 2s 146us/step - loss: 0.0052 - accuracy: 0.9992 - val_loss: 0.6837 - val_accuracy: 0.8671\n",
      "Epoch 20/20\n",
      "15000/15000 [==============================] - 2s 146us/step - loss: 0.0020 - accuracy: 0.9999 - val_loss: 0.7468 - val_accuracy: 0.8646\n"
     ]
    }
   ],
   "source": [
    "#Training the model for 20 epochs\n",
    "history = model.fit(partial_x_train,\n",
    "                    partial_y_train,\n",
    "                    epochs= 20,\n",
    "                    batch_size= 512,\n",
    "                    validation_data=(x_val, y_val)\n",
    "                    )"
   ]
  },
  {
   "cell_type": "code",
   "execution_count": 6,
   "metadata": {},
   "outputs": [
    {
     "name": "stdout",
     "output_type": "stream",
     "text": [
      "dict_keys(['val_loss', 'val_accuracy', 'loss', 'accuracy'])\n"
     ]
    }
   ],
   "source": [
    "#Returns a object History with a member history  \n",
    "history_dict = history.history\n",
    "print(history_dict.keys())"
   ]
  },
  {
   "cell_type": "code",
   "execution_count": 7,
   "metadata": {},
   "outputs": [
    {
     "data": {
      "image/png": "[encoded data removed]",
      "text/plain": [
       "<Figure size 432x288 with 1 Axes>"
      ]
     },
     "metadata": {
      "needs_background": "light"
     },
     "output_type": "display_data"
    }
   ],
   "source": [
    "#Plotting for a better inference on the results\n",
    "import matplotlib.pyplot as plt\n",
    "\n",
    "history_dict = history.history\n",
    "loss = history_dict['loss']\n",
    "val_loss = history_dict['val_loss']\n",
    "epochs = range(1, len(history_dict['accuracy']) + 1)\n",
    "\n",
    "plt.plot(epochs, loss, 'bo', label='Training loss')\n",
    "plt.plot(epochs, val_loss, 'cyan', label='Validation loss')\n",
    "plt.title('Training and validation loss')\n",
    "plt.xlabel('Epochs')\n",
    "plt.ylabel('Loss')\n",
    "plt.legend()\n",
    "plt.show()"
   ]
  },
  {
   "cell_type": "code",
   "execution_count": 8,
   "metadata": {},
   "outputs": [
    {
     "data": {
      "image/png": "[encoded data removed]",
      "text/plain": [
       "<Figure size 432x288 with 1 Axes>"
      ]
     },
     "metadata": {
      "needs_background": "light"
     },
     "output_type": "display_data"
    }
   ],
   "source": [
    "plt.clf()\n",
    "\n",
    "accuracy = history_dict['accuracy']\n",
    "val_accuracy = history_dict['val_accuracy']\n",
    "\n",
    "plt.plot(epochs, accuracy, 'bo', label='Training acc')\n",
    "plt.plot(epochs, val_accuracy, 'cyan', label='Validation acc')\n",
    "plt.title('Training and validation accuracy')\n",
    "plt.xlabel('Epochs')\n",
    "plt.ylabel('Loss')\n",
    "plt.legend()\n",
    "plt.show()"
   ]
  },
  {
   "cell_type": "code",
   "execution_count": 9,
   "metadata": {},
   "outputs": [
    {
     "name": "stdout",
     "output_type": "stream",
     "text": [
      "25000/25000 [==============================] - 3s 104us/step\n",
      "Accuracy  ---->   0.8500400185585022\n"
     ]
    }
   ],
   "source": [
    "#Evaluating the model on the test dataset\n",
    "results = model.evaluate(x_test, y_test)\n",
    "print('Accuracy  ---->   '+ str(results[1]))"
   ]
  },
  {
   "cell_type": "code",
   "execution_count": 10,
   "metadata": {},
   "outputs": [
    {
     "name": "stdout",
     "output_type": "stream",
     "text": [
      "[[0.01487146]\n",
      " [1.        ]\n",
      " [0.99836296]\n",
      " ...\n",
      " [0.00722454]\n",
      " [0.04944883]\n",
      " [0.830678  ]]\n"
     ]
    }
   ],
   "source": [
    "y_pred = model.predict(x_test)\n",
    "print(y_pred)"
   ]
  }
 ],
 "metadata": {
  "kernelspec": {
   "display_name": "Python 3",
   "language": "python",
   "name": "python3"
  },
  "language_info": {
   "codemirror_mode": {
    "name": "ipython",
    "version": 3
   },
   "file_extension": ".py",
   "mimetype": "text/x-python",
   "name": "python",
   "nbconvert_exporter": "python",
   "pygments_lexer": "ipython3",
   "version": "3.6.1"
  }
 },
 "nbformat": 4,
 "nbformat_minor": 2
}
